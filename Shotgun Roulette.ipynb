{
 "cells": [
  {
   "cell_type": "code",
   "execution_count": 9,
   "id": "0449276c-135c-4ab7-af12-e171086c4ef8",
   "metadata": {},
   "outputs": [
    {
     "name": "stdin",
     "output_type": "stream",
     "text": [
      "What is your desired text speed? 1 - fast / 2 - normal / 3 - slow:  1\n"
     ]
    },
    {
     "name": "stdout",
     "output_type": "stream",
     "text": [
      "This is what the scrolling speed will look like.\n",
      "Welcome to shotgun roulette!\n",
      "\n",
      "You will bet your life on lady luck, so tell me, are you feeling lucky? 1 - Begin / 2 - Set Speed / 3 - Quit \n"
     ]
    },
    {
     "name": "stdin",
     "output_type": "stream",
     "text": [
      "What will it be? 1\n"
     ]
    },
    {
     "name": "stdout",
     "output_type": "stream",
     "text": [
      "Nothing here yet\n"
     ]
    }
   ],
   "source": [
    "import time\n",
    "\n",
    "class GameDetails:\n",
    "    \n",
    "    def __init__(self):\n",
    "        self.__text_speed = 0.01  # Default text speed\n",
    "\n",
    "    def display_text(self, text):\n",
    "        for char in text:\n",
    "            print(char, end='', flush=True)\n",
    "            time.sleep(self.__text_speed)\n",
    "        print()\n",
    "\n",
    "    def set_speed(self):\n",
    "        speed = input(\"What is your desired text speed? 1 - fast / 2 - normal / 3 - slow: \")\n",
    "        if speed == '1':\n",
    "            self.__text_speed = 0.005\n",
    "        elif speed == '2':\n",
    "            self.__text_speed = 0.05\n",
    "        elif speed == '3':\n",
    "            self.__text_speed = 0.09\n",
    "        else:\n",
    "            print('Unregistered Input, Try again.')\n",
    "            self.set_speed()\n",
    "        self.display_text(\"This is what the scrolling speed will look like.\")\n",
    "        \n",
    "        \n",
    "    def beginning_screen(self):\n",
    "        self.display_text(\"Welcome to shotgun roulette!\")\n",
    "        print()\n",
    "        self.display_text(\"You will bet your life on lady luck, so tell me, are you feeling lucky? 1 - Begin / 2 - Set Speed / 3 - Quit \")\n",
    "        self.choice = input(\"What will it be?\")\n",
    "        if self.choice == '1':\n",
    "            self.adventure()\n",
    "        elif self.choice == '2':\n",
    "            self.set_speed()\n",
    "        else:\n",
    "            self.end_screen()\n",
    "    \n",
    "    def end_screen(self):\n",
    "        self.display_text(\"The end consumes you.\")\n",
    "    \n",
    "    def adventure(self):\n",
    "        print(\"Nothing here yet\")\n",
    "\n",
    "    def start_game(self):\n",
    "        self.set_speed()\n",
    "        self.beginning_screen()\n",
    "        \n",
    "\n",
    "    \n",
    "\n",
    "game = GameDetails()\n",
    "\n",
    "game.start_game()\n",
    "\n",
    "\n"
   ]
  },
  {
   "cell_type": "code",
   "execution_count": null,
   "id": "2cc7e28b-5540-4dbd-adf2-93fc4203e487",
   "metadata": {},
   "outputs": [],
   "source": []
  }
 ],
 "metadata": {
  "kernelspec": {
   "display_name": "Python 3 (ipykernel)",
   "language": "python",
   "name": "python3"
  },
  "language_info": {
   "codemirror_mode": {
    "name": "ipython",
    "version": 3
   },
   "file_extension": ".py",
   "mimetype": "text/x-python",
   "name": "python",
   "nbconvert_exporter": "python",
   "pygments_lexer": "ipython3",
   "version": "3.10.9"
  }
 },
 "nbformat": 4,
 "nbformat_minor": 5
}
